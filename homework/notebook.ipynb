{
 "cells": [
  {
   "cell_type": "code",
   "execution_count": null,
   "id": "d0de6f91",
   "metadata": {},
   "outputs": [
    {
     "name": "stdout",
     "output_type": "stream",
     "text": [
      "../files/input\\file1.txt  It is essential to develop non-precious metal-based alternatives used \n",
      "../files/input\\file2.txt  Electric vehicles are gaining global popularity lately, and along with\n",
      "../files/input\\file3.txt  Global solar irradiation is an important variable that can be used to \n"
     ]
    }
   ],
   "source": [
    "# Carga de datos\n",
    "import glob  # Importa el módulo glob para buscar archivos por patrones\n",
    "\n",
    "\n",
    "def load_data(input_directory):\n",
    "    # Inicializa una lista vacía para almacenar las secuencias\n",
    "    sequence = []\n",
    "    # Obtiene la lista de archivos en el directorio de entrada\n",
    "    files = glob.glob(f\"{input_directory}/*\")\n",
    "    for file in files:\n",
    "        # Abre cada archivo en modo lectura de texto y codificación utf-8\n",
    "        with open(file, \"rt\", encoding=\"utf-8\") as f:\n",
    "            raw_text = f.read()  # Lee el contenido del archivo\n",
    "            sequence.append((file, raw_text))  # Agrega una tupla (archivo, texto) a la secuencia\n",
    "    return sequence  # Devuelve la lista de secuencias\n",
    "\n",
    "# Llama a la función para cargar los datos desde el directorio de entrada\n",
    "sequence = load_data(input_directory=\"../files/input\")\n",
    "# Imprime el nombre del archivo y los primeros 70 caracteres del texto\n",
    "for file, text in sequence:\n",
    "    print(f\"{file}  {text[:70]}\")"
   ]
  },
  {
   "cell_type": "code",
   "execution_count": null,
   "id": "f5953643",
   "metadata": {},
   "outputs": [
    {
     "name": "stdout",
     "output_type": "stream",
     "text": [
      "../files/input\\file1.txt  it is essential to develop non-precious metal-based alternatives used \n",
      "../files/input\\file2.txt  electric vehicles are gaining global popularity lately, and along with\n",
      "../files/input\\file3.txt  global solar irradiation is an important variable that can be used to \n"
     ]
    }
   ],
   "source": [
    "# Clean text\n",
    "import re  # Importa el módulo de expresiones regulares\n",
    "\n",
    "\n",
    "def clean_text(sequence):\n",
    "    cleaned_sequence = []  # Lista para almacenar los textos limpios\n",
    "    for file, text in sequence:\n",
    "        cleaned_text = re.sub(r\"\\n\", \" \", text)  # Reemplaza saltos de línea por espacios\n",
    "        cleaned_text = re.sub(r\"\\s+\", \" \", cleaned_text)  # Reemplaza múltiples espacios por uno solo\n",
    "        cleaned_text = cleaned_text.strip()  # Elimina espacios al inicio y final\n",
    "        cleaned_text = cleaned_text.lower()  # Convierte el texto a minúsculas\n",
    "        cleaned_sequence.append((file, cleaned_text))  # Agrega la tupla (archivo, texto limpio)\n",
    "    return cleaned_sequence  # Devuelve la lista de textos limpios\n",
    "\n",
    "\n",
    "# Carga los datos\n",
    "sequence = load_data(input_directory=\"../files/input\")\n",
    "# Limpia los textos\n",
    "cleaned_sequence = clean_text(sequence)\n",
    "# Imprime el nombre del archivo y los primeros 70 caracteres del texto limpio\n",
    "for file, text in cleaned_sequence:\n",
    "    print(f\"{file}  {text[:70]}\")\n"
   ]
  },
  {
   "cell_type": "code",
   "execution_count": null,
   "id": "d10078cc",
   "metadata": {},
   "outputs": [
    {
     "name": "stdout",
     "output_type": "stream",
     "text": [
      "../files/input\\file1.txt  it is essential to develop non-precious metal-based alternatives used \n",
      "../files/input\\file2.txt  electric vehicles are gaining global popularity lately , and along wit\n",
      "../files/input\\file3.txt  global solar irradiation is an important variable that can be used to \n"
     ]
    },
    {
     "name": "stderr",
     "output_type": "stream",
     "text": [
      "[nltk_data] Downloading package punkt_tab to\n",
      "[nltk_data]     C:\\Users\\USUARIO\\AppData\\Roaming\\nltk_data...\n",
      "[nltk_data]   Package punkt_tab is already up-to-date!\n"
     ]
    }
   ],
   "source": [
    "# Tokenization\n",
    "import nltk  # Importa la librería nltk\n",
    "from nltk.tokenize import word_tokenize  # Importa el tokenizador de palabras\n",
    "\n",
    "nltk.download(\"punkt_tab\")  # Descarga el recurso 'punkt_tab' para tokenización\n",
    "\n",
    "\n",
    "def tokenize(sequence):\n",
    "    tokenized_sequence = []  # Lista para almacenar los textos tokenizados\n",
    "    for file, text in sequence:\n",
    "        tokens = word_tokenize(text)  # Tokeniza el texto en palabras\n",
    "        tokenized_sequence.append((file, tokens))  # Agrega la tupla (archivo, tokens)\n",
    "    return tokenized_sequence  # Devuelve la lista de textos tokenizados\n",
    "\n",
    "\n",
    "# Carga, limpia y tokeniza los datos\n",
    "sequence = load_data(input_directory=\"../files/input\")\n",
    "cleaned_sequence = clean_text(sequence)\n",
    "tokenized_sequence = tokenize(cleaned_sequence)\n",
    "# Imprime el nombre del archivo y los primeros 70 caracteres de los tokens unidos\n",
    "for file, text in tokenized_sequence:\n",
    "    print(f\"{file}  {' '.join(text)[:70]}\")"
   ]
  },
  {
   "cell_type": "code",
   "execution_count": null,
   "id": "e74423b2",
   "metadata": {},
   "outputs": [
    {
     "name": "stdout",
     "output_type": "stream",
     "text": [
      "../files/input\\file1.txt  it is essential to develop alternatives used in hydrogen evolution rea\n",
      "../files/input\\file2.txt  electric vehicles are gaining global popularity lately and along with \n",
      "../files/input\\file3.txt  global solar irradiation is an important variable that can be used to \n"
     ]
    }
   ],
   "source": [
    "# Remoción de datos ruidosos (Opcion A)\n",
    "def filter_tokens_a(sequence):\n",
    "    \"\"\"Esta solucion puede perder tokens que contienen caracteres no alfabeticos\"\"\"\n",
    "    filtered_sequence = []  # Lista para almacenar los tokens filtrados\n",
    "    for file, tokens in sequence:\n",
    "        filtered_tokens = [token for token in tokens if token.isalpha()]  # Solo deja tokens alfabéticos\n",
    "        filtered_sequence.append((file, filtered_tokens))  # Agrega la tupla (archivo, tokens filtrados)\n",
    "    return filtered_sequence  # Devuelve la lista filtrada\n",
    "\n",
    "\n",
    "# Carga, limpia, tokeniza y filtra los datos\n",
    "sequence = load_data(input_directory=\"../files/input\")\n",
    "cleaned_sequence = clean_text(sequence)\n",
    "tokenized_sequence = tokenize(cleaned_sequence)\n",
    "filtered_sequence = filter_tokens_a(tokenized_sequence)\n",
    "# Imprime el nombre del archivo y los primeros 70 caracteres de los tokens filtrados\n",
    "for file, text in filtered_sequence:\n",
    "    print(f\"{file}  {' '.join(text)[:70]}\")\n"
   ]
  },
  {
   "cell_type": "code",
   "execution_count": null,
   "id": "0fa8f970",
   "metadata": {},
   "outputs": [
    {
     "name": "stdout",
     "output_type": "stream",
     "text": [
      "../files/input\\file1.txt  it is essential to develop non precious metal based alternatives used \n",
      "../files/input\\file2.txt  electric vehicles are gaining global popularity lately and along with \n",
      "../files/input\\file3.txt  global solar irradiation is an important variable that can be used to \n"
     ]
    }
   ],
   "source": [
    "# Remoción de datos ruidosos (Opcion B)\n",
    "def filter_tokens_b(sequence):\n",
    "    \"\"\"Esta solucion puede perder tokens que contienen caracteres no alfabeticos\"\"\"\n",
    "    filtered_sequence = []  # Lista para almacenar los tokens filtrados\n",
    "    for file, tokens in sequence:\n",
    "        filtered_tokens = [re.sub(r\"[^a-zA-Z\\s]\", \" \", token) for token in tokens]  # Reemplaza caracteres no alfabéticos por espacio\n",
    "        filtered_tokens = [re.sub(r\"\\s+\", \" \", token) for token in filtered_tokens]  # Reemplaza múltiples espacios por uno\n",
    "        filtered_tokens = [token.strip() for token in filtered_tokens]  # Elimina espacios al inicio y final\n",
    "        filtered_tokens = [token for token in filtered_tokens if token != \"\"]  # Elimina tokens vacíos\n",
    "        filtered_sequence.append((file, filtered_tokens))  # Agrega la tupla (archivo, tokens filtrados)\n",
    "    return filtered_sequence  # Devuelve la lista filtrada\n",
    "\n",
    "# Carga, limpia, tokeniza y filtra los datos\n",
    "sequence = load_data(input_directory=\"../files/input\")\n",
    "cleaned_sequence = clean_text(sequence)\n",
    "tokenized_sequence = tokenize(cleaned_sequence)\n",
    "filtered_sequence = filter_tokens_b(tokenized_sequence)\n",
    "# Imprime el nombre del archivo y los primeros 70 caracteres de los tokens filtrados\n",
    "for file, text in filtered_sequence:\n",
    "    print(f\"{file}  {' '.join(text)[:70]}\")"
   ]
  },
  {
   "cell_type": "code",
   "execution_count": null,
   "id": "ff204d0f",
   "metadata": {},
   "outputs": [
    {
     "name": "stdout",
     "output_type": "stream",
     "text": [
      "../files/input\\file1.txt  essential develop non precious metal based alternatives used hydrogen \n",
      "../files/input\\file2.txt  electric vehicles gaining global popularity lately along efficient bat\n",
      "../files/input\\file3.txt  global solar irradiation important variable used determine suitability\n"
     ]
    },
    {
     "name": "stderr",
     "output_type": "stream",
     "text": [
      "[nltk_data] Downloading package stopwords to\n",
      "[nltk_data]     C:\\Users\\USUARIO\\AppData\\Roaming\\nltk_data...\n",
      "[nltk_data]   Package stopwords is already up-to-date!\n"
     ]
    }
   ],
   "source": [
    "# Remove the stopwords\n",
    "nltk.download(\"stopwords\")  # Descarga la lista de stopwords\n",
    "\n",
    "\n",
    "def remove_stopwords(sequence):\n",
    "    stop_words = set(nltk.corpus.stopwords.words(\"english\"))  # Obtiene el conjunto de stopwords en inglés\n",
    "    filtered_sequence = []  # Lista para almacenar los tokens filtrados\n",
    "    for file, tokens in sequence:\n",
    "        filtered_tokens = [token for token in tokens if token not in stop_words]  # Elimina las stopwords\n",
    "        filtered_sequence.append((file, filtered_tokens))  # Agrega la tupla (archivo, tokens filtrados)\n",
    "    return filtered_sequence  # Devuelve la lista filtrada\n",
    "\n",
    "\n",
    "# Carga, limpia, tokeniza, filtra y elimina stopwords\n",
    "sequence = load_data(input_directory=\"../files/input\")\n",
    "cleaned_sequence = clean_text(sequence)\n",
    "tokenized_sequence = tokenize(cleaned_sequence)\n",
    "filtered_sequence = filter_tokens_b(tokenized_sequence)\n",
    "filtered_sequence = remove_stopwords(filtered_sequence)\n",
    "# Imprime el nombre del archivo y los primeros 70 caracteres de los tokens filtrados\n",
    "for file, text in filtered_sequence:\n",
    "    print(f\"{file}  {' '.join(text)[:70]}\")\n"
   ]
  },
  {
   "cell_type": "code",
   "execution_count": null,
   "id": "39a93706",
   "metadata": {},
   "outputs": [],
   "source": [
    "# Save to disk\n",
    "import os  # Importa el módulo os para operaciones del sistema operativo\n",
    "import textwrap  # Importa textwrap para formatear el texto\n",
    "\n",
    "\n",
    "def save_data(output_directory, sequence):\n",
    "    # Verifica si el directorio de salida existe, si no, lo crea\n",
    "    if not os.path.exists(output_directory):\n",
    "        os.makedirs(output_directory)\n",
    "\n",
    "    # Itera sobre cada archivo y sus tokens en la secuencia\n",
    "    for file, tokens in sequence:\n",
    "        file = file.replace(\"\\\\\", \"/\")  # Reemplaza las barras invertidas por barras normales en la ruta del archivo\n",
    "        with open(\n",
    "            f\"{output_directory}/{file.split('/')[-1]}\",  # Abre el archivo de salida con el mismo nombre que el archivo original\n",
    "            \"wt\",  # Modo escritura de texto\n",
    "            encoding=\"utf-8\",  # Codificación utf-8\n",
    "        ) as f:\n",
    "            f.write(textwrap.fill(\" \".join(tokens), width=70))  # Escribe los tokens unidos por espacios y formateados a 70 caracteres por línea\n",
    "\n",
    "# Carga los datos desde el directorio de entrada\n",
    "sequence = load_data(input_directory=\"../files/input\")\n",
    "# Limpia el texto de los datos cargados\n",
    "cleaned_sequence = clean_text(sequence)\n",
    "# Tokeniza el texto limpio\n",
    "tokenized_sequence = tokenize(cleaned_sequence)\n",
    "# Filtra los tokens usando la opción B\n",
    "filtered_sequence = filter_tokens_b(tokenized_sequence)\n",
    "# Elimina las stopwords de los tokens filtrados\n",
    "filtered_sequence = remove_stopwords(filtered_sequence)\n",
    "# Guarda los datos procesados en el directorio de salida\n",
    "save_data(output_directory=\"../files/output\", sequence=filtered_sequence)"
   ]
  }
 ],
 "metadata": {
  "kernelspec": {
   "display_name": ".venv",
   "language": "python",
   "name": "python3"
  },
  "language_info": {
   "codemirror_mode": {
    "name": "ipython",
    "version": 3
   },
   "file_extension": ".py",
   "mimetype": "text/x-python",
   "name": "python",
   "nbconvert_exporter": "python",
   "pygments_lexer": "ipython3",
   "version": "3.13.3"
  }
 },
 "nbformat": 4,
 "nbformat_minor": 5
}
